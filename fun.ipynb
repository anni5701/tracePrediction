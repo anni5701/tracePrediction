{
 "cells": [
  {
   "cell_type": "code",
   "execution_count": 64,
   "metadata": {},
   "outputs": [],
   "source": [
    "# imports\n",
    "\n",
    "import pandas as pd\n",
    "import numpy as np\n",
    "import matplotlib.pyplot as plt\n",
    "import tensorflow as tf\n",
    "from sklearn.preprocessing import StandardScaler"
   ]
  },
  {
   "cell_type": "code",
   "execution_count": 65,
   "metadata": {},
   "outputs": [
    {
     "name": "stdout",
     "output_type": "stream",
     "text": [
      "   Unnamed: 0  t_r           x           y    z        ax        ay        az  \\\n",
      "0           0  0.0  171.081563  175.444042  0.0 -0.496755 -3.093995  1.890260   \n",
      "1           1  0.5  170.148674  174.619624  0.0 -0.899707 -4.329133  1.377966   \n",
      "2           2  1.0  169.290593  173.889512  0.0 -1.257112 -5.272743  0.990354   \n",
      "3           3  1.5  168.504520  173.249715  0.0 -1.342064 -4.472514  1.348558   \n",
      "4           4  2.0  167.787657  172.696245  0.0 -1.415803 -3.668196  1.595401   \n",
      "\n",
      "         gx        gy  ...    nav_ay    nav_az     vel_x     vel_y     vel_z  \\\n",
      "0  0.045052 -0.245010  ... -0.256070 -0.643924  0.644370  2.381587 -0.227681   \n",
      "1 -0.599859 -0.118527  ... -0.354587 -0.658915  0.644314  2.381542 -0.227796   \n",
      "2 -1.064092 -0.028218  ... -0.417381 -0.650395  0.644264  2.381485 -0.227911   \n",
      "3 -0.447566 -0.154293  ... -0.398371 -0.645887  0.644213  2.381425 -0.228025   \n",
      "4  0.034074 -0.218649  ... -0.375734 -0.645659  0.644158  2.381367 -0.228139   \n",
      "\n",
      "        pos_x       pos_y     pos_z        dx        dy  \n",
      "0  171.081563  175.444042  0.000000  0.000000  0.000000  \n",
      "1  171.000643  175.405875 -0.081427 -0.932889 -0.824417  \n",
      "2  170.765953  175.281295 -0.326114 -0.858081 -0.730112  \n",
      "3  170.384959  175.057483 -0.733650 -0.786073 -0.639797  \n",
      "4  169.850957  174.734304 -1.302926 -0.716863 -0.553470  \n",
      "\n",
      "[5 rows x 28 columns] 205823\n"
     ]
    }
   ],
   "source": [
    "data = pd.read_csv(\"./data/data_frame_smooth.csv\")\n",
    "features = [\"ax\", \"ay\", \"az\", \"vel_x\", \"vel_y\", \"vel_z\", \"gx\", \"gy\", \"gz\", \"q0\", \"q1\", \"q2\", \"q3\"]\n",
    "labels = [\"dx\", \"dy\"]\n",
    "\n",
    "data['dx'] = data['x'] - data['x'].shift(1)\n",
    "data['dy'] = data['y'] - data['y'].shift(1)\n",
    "# introduces NaN values in the beginning\n",
    "data['dx'] = data['dx'].fillna(0)\n",
    "data['dy'] = data['dy'].fillna(0)\n",
    "\n",
    "scaler = StandardScaler() \n",
    "data[features] = pd.DataFrame(scaler.fit_transform(data[features].values), index=data.index)\n",
    "\n",
    "print(data.head(), len(data))\n",
    "\n",
    "# todo turn x,y values into cm not pixels or whatever this is"
   ]
  },
  {
   "cell_type": "code",
   "execution_count": 66,
   "metadata": {},
   "outputs": [
    {
     "data": {
      "image/png": "[encoded data removed]",
      "text/plain": [
       "<Figure size 640x480 with 1 Axes>"
      ]
     },
     "metadata": {},
     "output_type": "display_data"
    }
   ],
   "source": [
    "# (n_batches, n_timestemps, n_features)\n",
    "plt.scatter(range(len(data)), data.dx, c=\"blue\", label= \"dx\", s=5, alpha=0.5)\n",
    "plt.scatter(range(len(data)), data.dy, c=\"orange\", label= \"dy\", s=5, alpha=0.3)\n",
    "plt.legend()\n",
    "plt.show()"
   ]
  },
  {
   "cell_type": "code",
   "execution_count": 67,
   "metadata": {},
   "outputs": [],
   "source": [
    "column_indices = {name: i for i, name in enumerate(data.columns)}\n",
    "feature_data = data[data.columns.intersection(features+labels)]\n",
    "\n",
    "n = len(data)\n",
    "train_data = feature_data[0:int(n*0.8)]\n",
    "#val_data = feature_data[int(n*0.7):int(n*0.9)]\n",
    "test_data = feature_data[int(n*0.8):]\n",
    "\n",
    "num_features = feature_data.shape[1] - len(labels)\n"
   ]
  },
  {
   "cell_type": "code",
   "execution_count": 68,
   "metadata": {},
   "outputs": [
    {
     "data": {
      "text/html": [
       "<div>\n",
       "<style scoped>\n",
       "    .dataframe tbody tr th:only-of-type {\n",
       "        vertical-align: middle;\n",
       "    }\n",
       "\n",
       "    .dataframe tbody tr th {\n",
       "        vertical-align: top;\n",
       "    }\n",
       "\n",
       "    .dataframe thead th {\n",
       "        text-align: right;\n",
       "    }\n",
       "</style>\n",
       "<table border=\"1\" class=\"dataframe\">\n",
       "  <thead>\n",
       "    <tr style=\"text-align: right;\">\n",
       "      <th></th>\n",
       "      <th>ax</th>\n",
       "      <th>ay</th>\n",
       "      <th>az</th>\n",
       "      <th>gx</th>\n",
       "      <th>gy</th>\n",
       "      <th>gz</th>\n",
       "      <th>q0</th>\n",
       "      <th>q1</th>\n",
       "      <th>q2</th>\n",
       "      <th>q3</th>\n",
       "      <th>vel_x</th>\n",
       "      <th>vel_y</th>\n",
       "      <th>vel_z</th>\n",
       "      <th>dx</th>\n",
       "      <th>dy</th>\n",
       "    </tr>\n",
       "  </thead>\n",
       "  <tbody>\n",
       "    <tr>\n",
       "      <th>0</th>\n",
       "      <td>-0.496755</td>\n",
       "      <td>-3.093995</td>\n",
       "      <td>1.890260</td>\n",
       "      <td>0.045052</td>\n",
       "      <td>-0.245010</td>\n",
       "      <td>-2.661870</td>\n",
       "      <td>1.569316</td>\n",
       "      <td>0.504605</td>\n",
       "      <td>0.993362</td>\n",
       "      <td>-0.519095</td>\n",
       "      <td>0.644370</td>\n",
       "      <td>2.381587</td>\n",
       "      <td>-0.227681</td>\n",
       "      <td>0.000000</td>\n",
       "      <td>0.000000</td>\n",
       "    </tr>\n",
       "    <tr>\n",
       "      <th>1</th>\n",
       "      <td>-0.899707</td>\n",
       "      <td>-4.329133</td>\n",
       "      <td>1.377966</td>\n",
       "      <td>-0.599859</td>\n",
       "      <td>-0.118527</td>\n",
       "      <td>-2.358232</td>\n",
       "      <td>1.543771</td>\n",
       "      <td>0.368381</td>\n",
       "      <td>1.053295</td>\n",
       "      <td>-0.580603</td>\n",
       "      <td>0.644314</td>\n",
       "      <td>2.381542</td>\n",
       "      <td>-0.227796</td>\n",
       "      <td>-0.932889</td>\n",
       "      <td>-0.824417</td>\n",
       "    </tr>\n",
       "    <tr>\n",
       "      <th>2</th>\n",
       "      <td>-1.257112</td>\n",
       "      <td>-5.272743</td>\n",
       "      <td>0.990354</td>\n",
       "      <td>-1.064092</td>\n",
       "      <td>-0.028218</td>\n",
       "      <td>-1.957751</td>\n",
       "      <td>1.539405</td>\n",
       "      <td>0.319351</td>\n",
       "      <td>1.057644</td>\n",
       "      <td>-0.610075</td>\n",
       "      <td>0.644264</td>\n",
       "      <td>2.381485</td>\n",
       "      <td>-0.227911</td>\n",
       "      <td>-0.858081</td>\n",
       "      <td>-0.730112</td>\n",
       "    </tr>\n",
       "    <tr>\n",
       "      <th>3</th>\n",
       "      <td>-1.342064</td>\n",
       "      <td>-4.472514</td>\n",
       "      <td>1.348558</td>\n",
       "      <td>-0.447566</td>\n",
       "      <td>-0.154293</td>\n",
       "      <td>-0.977974</td>\n",
       "      <td>1.549974</td>\n",
       "      <td>0.340845</td>\n",
       "      <td>1.031174</td>\n",
       "      <td>-0.617444</td>\n",
       "      <td>0.644213</td>\n",
       "      <td>2.381425</td>\n",
       "      <td>-0.228025</td>\n",
       "      <td>-0.786073</td>\n",
       "      <td>-0.639797</td>\n",
       "    </tr>\n",
       "    <tr>\n",
       "      <th>4</th>\n",
       "      <td>-1.415803</td>\n",
       "      <td>-3.668196</td>\n",
       "      <td>1.595401</td>\n",
       "      <td>0.034074</td>\n",
       "      <td>-0.218649</td>\n",
       "      <td>-0.212959</td>\n",
       "      <td>1.557015</td>\n",
       "      <td>0.386295</td>\n",
       "      <td>1.005853</td>\n",
       "      <td>-0.616538</td>\n",
       "      <td>0.644158</td>\n",
       "      <td>2.381367</td>\n",
       "      <td>-0.228139</td>\n",
       "      <td>-0.716863</td>\n",
       "      <td>-0.553470</td>\n",
       "    </tr>\n",
       "  </tbody>\n",
       "</table>\n",
       "</div>"
      ],
      "text/plain": [
       "         ax        ay        az        gx        gy        gz        q0  \\\n",
       "0 -0.496755 -3.093995  1.890260  0.045052 -0.245010 -2.661870  1.569316   \n",
       "1 -0.899707 -4.329133  1.377966 -0.599859 -0.118527 -2.358232  1.543771   \n",
       "2 -1.257112 -5.272743  0.990354 -1.064092 -0.028218 -1.957751  1.539405   \n",
       "3 -1.342064 -4.472514  1.348558 -0.447566 -0.154293 -0.977974  1.549974   \n",
       "4 -1.415803 -3.668196  1.595401  0.034074 -0.218649 -0.212959  1.557015   \n",
       "\n",
       "         q1        q2        q3     vel_x     vel_y     vel_z        dx  \\\n",
       "0  0.504605  0.993362 -0.519095  0.644370  2.381587 -0.227681  0.000000   \n",
       "1  0.368381  1.053295 -0.580603  0.644314  2.381542 -0.227796 -0.932889   \n",
       "2  0.319351  1.057644 -0.610075  0.644264  2.381485 -0.227911 -0.858081   \n",
       "3  0.340845  1.031174 -0.617444  0.644213  2.381425 -0.228025 -0.786073   \n",
       "4  0.386295  1.005853 -0.616538  0.644158  2.381367 -0.228139 -0.716863   \n",
       "\n",
       "         dy  \n",
       "0  0.000000  \n",
       "1 -0.824417  \n",
       "2 -0.730112  \n",
       "3 -0.639797  \n",
       "4 -0.553470  "
      ]
     },
     "execution_count": 68,
     "metadata": {},
     "output_type": "execute_result"
    }
   ],
   "source": [
    "train_data.head()\n"
   ]
  },
  {
   "cell_type": "code",
   "execution_count": 69,
   "metadata": {},
   "outputs": [
    {
     "name": "stdout",
     "output_type": "stream",
     "text": [
      "(1583, 10, 13) (1583, 10, 2)\n"
     ]
    }
   ],
   "source": [
    "# Prepare the training data\n",
    "x_train = []\n",
    "y_train = []\n",
    "\n",
    "steps = 10\n",
    "offset = 5\n",
    "\n",
    "num_batches = int(feature_data.shape[0] / (steps * (num_features)))\n",
    "i = 0\n",
    "for b in range(num_batches):\n",
    "    x_train.append(np.array(train_data.iloc[i: i+steps, :-2]).flatten())\n",
    "    y_train.append(np.array(train_data.iloc[i:i+steps, -2:]).flatten())\n",
    "    i = i + offset\n",
    "x_train, y_train = np.array(x_train).reshape(-1,steps, num_features), np.array(y_train).reshape(-1,steps, len(labels))\n",
    "print(x_train.shape, y_train.shape)\n",
    "\n"
   ]
  },
  {
   "cell_type": "markdown",
   "metadata": {},
   "source": []
  },
  {
   "cell_type": "code",
   "execution_count": 70,
   "metadata": {},
   "outputs": [],
   "source": [
    "class FeedBack(tf.keras.Model):\n",
    "  def __init__(self, units, out_steps):\n",
    "    super().__init__()\n",
    "    self.out_steps = out_steps\n",
    "    self.units = units\n",
    "    self.lstm_cell = tf.keras.layers.LSTMCell(units)\n",
    "    # Also wrap the LSTMCell in an RNN to simplify the `warmup` method.\n",
    "    self.lstm_rnn = tf.keras.layers.RNN(self.lstm_cell, return_state=True)\n",
    "    self.dense = tf.keras.layers.Dense(num_features)\n",
    "\n",
    "\n",
    "    def warmup(self, inputs):\n",
    "        # inputs.shape => (batch, time, features)\n",
    "        # x.shape => (batch, lstm_units)\n",
    "        x, *state = self.lstm_rnn(inputs)\n",
    "\n",
    "        # predictions.shape => (batch, features)\n",
    "        prediction = self.dense(x)\n",
    "        return prediction, state\n",
    "\n",
    "    \n",
    "    FeedBack.warmup = warmup\n",
    "\n",
    "\n",
    "    def call(self, inputs, training=None):\n",
    "        # Use a TensorArray to capture dynamically unrolled outputs.\n",
    "        predictions = []\n",
    "        # Initialize the LSTM state.\n",
    "        prediction, state = self.warmup(inputs)\n",
    "\n",
    "        # Insert the first prediction.\n",
    "        predictions.append(prediction)\n",
    "\n",
    "        # Run the rest of the prediction steps.\n",
    "        for n in range(1, self.out_steps):\n",
    "            # Use the last prediction as input.\n",
    "            x = prediction\n",
    "            # Execute one lstm step.\n",
    "            x, state = self.lstm_cell(x, states=state,\n",
    "                                    training=training)\n",
    "            # Convert the lstm output to a prediction.\n",
    "            prediction = self.dense(x)\n",
    "            # Add the prediction to the output.\n",
    "            predictions.append(prediction)\n",
    "\n",
    "        # predictions.shape => (time, batch, features)\n",
    "        predictions = tf.stack(predictions)\n",
    "        # predictions.shape => (batch, time, features)\n",
    "        predictions = tf.transpose(predictions, [1, 0, 2])\n",
    "        return predictions\n",
    "\n",
    "    FeedBack.call = call\n",
    "\n",
    "\n"
   ]
  },
  {
   "cell_type": "code",
   "execution_count": 71,
   "metadata": {},
   "outputs": [
    {
     "data": {
      "text/plain": [
       "TensorShape([1583, 13])"
      ]
     },
     "execution_count": 71,
     "metadata": {},
     "output_type": "execute_result"
    }
   ],
   "source": [
    "feedback_model = FeedBack(units=32, out_steps=5)\n",
    "prediction, state = feedback_model.warmup(x_train)\n",
    "prediction.shape\n"
   ]
  },
  {
   "cell_type": "code",
   "execution_count": 72,
   "metadata": {},
   "outputs": [
    {
     "name": "stdout",
     "output_type": "stream",
     "text": [
      "Output shape (batch, time, features):  (1583, 5, 13)\n"
     ]
    }
   ],
   "source": [
    "print('Output shape (batch, time, features): ', feedback_model(x_train).shape)"
   ]
  },
  {
   "cell_type": "code",
   "execution_count": 75,
   "metadata": {},
   "outputs": [
    {
     "name": "stdout",
     "output_type": "stream",
     "text": [
      "Epoch 1/20\n"
     ]
    },
    {
     "ename": "ValueError",
     "evalue": "in user code:\n\n    File \"c:\\Users\\ann-k\\anaconda3\\envs\\patternRecognition2\\lib\\site-packages\\keras\\engine\\training.py\", line 1160, in train_function  *\n        return step_function(self, iterator)\n    File \"c:\\Users\\ann-k\\anaconda3\\envs\\patternRecognition2\\lib\\site-packages\\keras\\engine\\training.py\", line 1146, in step_function  **\n        outputs = model.distribute_strategy.run(run_step, args=(data,))\n    File \"c:\\Users\\ann-k\\anaconda3\\envs\\patternRecognition2\\lib\\site-packages\\keras\\engine\\training.py\", line 1135, in run_step  **\n        outputs = model.train_step(data)\n    File \"c:\\Users\\ann-k\\anaconda3\\envs\\patternRecognition2\\lib\\site-packages\\keras\\engine\\training.py\", line 994, in train_step\n        loss = self.compute_loss(x, y, y_pred, sample_weight)\n    File \"c:\\Users\\ann-k\\anaconda3\\envs\\patternRecognition2\\lib\\site-packages\\keras\\engine\\training.py\", line 1052, in compute_loss\n        return self.compiled_loss(\n    File \"c:\\Users\\ann-k\\anaconda3\\envs\\patternRecognition2\\lib\\site-packages\\keras\\engine\\compile_utils.py\", line 265, in __call__\n        loss_value = loss_obj(y_t, y_p, sample_weight=sw)\n    File \"c:\\Users\\ann-k\\anaconda3\\envs\\patternRecognition2\\lib\\site-packages\\keras\\losses.py\", line 152, in __call__\n        losses = call_fn(y_true, y_pred)\n    File \"c:\\Users\\ann-k\\anaconda3\\envs\\patternRecognition2\\lib\\site-packages\\keras\\losses.py\", line 272, in call  **\n        return ag_fn(y_true, y_pred, **self._fn_kwargs)\n    File \"c:\\Users\\ann-k\\anaconda3\\envs\\patternRecognition2\\lib\\site-packages\\keras\\losses.py\", line 1486, in mean_squared_error\n        return backend.mean(tf.math.squared_difference(y_pred, y_true), axis=-1)\n\n    ValueError: Dimensions must be equal, but are 5 and 10 for '{{node mean_squared_error/SquaredDifference}} = SquaredDifference[T=DT_FLOAT](feed_back_3/transpose, IteratorGetNext:1)' with input shapes: [?,5,13], [?,10,2].\n",
     "output_type": "error",
     "traceback": [
      "\u001b[1;31m---------------------------------------------------------------------------\u001b[0m",
      "\u001b[1;31mValueError\u001b[0m                                Traceback (most recent call last)",
      "Cell \u001b[1;32mIn[75], line 8\u001b[0m\n\u001b[0;32m      1\u001b[0m early_stopping \u001b[39m=\u001b[39m tf\u001b[39m.\u001b[39mkeras\u001b[39m.\u001b[39mcallbacks\u001b[39m.\u001b[39mEarlyStopping(monitor\u001b[39m=\u001b[39m\u001b[39m'\u001b[39m\u001b[39mval_loss\u001b[39m\u001b[39m'\u001b[39m,\n\u001b[0;32m      2\u001b[0m                                                     patience\u001b[39m=\u001b[39m\u001b[39m2\u001b[39m,\n\u001b[0;32m      3\u001b[0m                                                     mode\u001b[39m=\u001b[39m\u001b[39m'\u001b[39m\u001b[39mmin\u001b[39m\u001b[39m'\u001b[39m)\n\u001b[0;32m      4\u001b[0m feedback_model\u001b[39m.\u001b[39mcompile(loss\u001b[39m=\u001b[39mtf\u001b[39m.\u001b[39mkeras\u001b[39m.\u001b[39mlosses\u001b[39m.\u001b[39mMeanSquaredError(),\n\u001b[0;32m      5\u001b[0m             optimizer\u001b[39m=\u001b[39mtf\u001b[39m.\u001b[39mkeras\u001b[39m.\u001b[39moptimizers\u001b[39m.\u001b[39mAdam(),\n\u001b[0;32m      6\u001b[0m             metrics\u001b[39m=\u001b[39m[tf\u001b[39m.\u001b[39mkeras\u001b[39m.\u001b[39mmetrics\u001b[39m.\u001b[39mMeanAbsoluteError()])\n\u001b[1;32m----> 8\u001b[0m history \u001b[39m=\u001b[39m feedback_model\u001b[39m.\u001b[39;49mfit(x_train,y_train, epochs\u001b[39m=\u001b[39;49m\u001b[39m20\u001b[39;49m,\n\u001b[0;32m      9\u001b[0m                     validation_split\u001b[39m=\u001b[39;49m\u001b[39m0.2\u001b[39;49m,\n\u001b[0;32m     10\u001b[0m                     callbacks\u001b[39m=\u001b[39;49m[early_stopping])\n\u001b[0;32m     13\u001b[0m IPython\u001b[39m.\u001b[39mdisplay\u001b[39m.\u001b[39mclear_output()\n\u001b[0;32m     15\u001b[0m \u001b[39m#multi_val_performance['AR LSTM'] = feedback_model.evaluate(multi_window.val)\u001b[39;00m\n\u001b[0;32m     16\u001b[0m \u001b[39m#multi_performance['AR LSTM'] = feedback_model.evaluate(multi_window.test, verbose=0)\u001b[39;00m\n\u001b[0;32m     17\u001b[0m \u001b[39m#multi_window.plot(feedback_model)\u001b[39;00m\n",
      "File \u001b[1;32mc:\\Users\\ann-k\\anaconda3\\envs\\patternRecognition2\\lib\\site-packages\\keras\\utils\\traceback_utils.py:70\u001b[0m, in \u001b[0;36mfilter_traceback.<locals>.error_handler\u001b[1;34m(*args, **kwargs)\u001b[0m\n\u001b[0;32m     67\u001b[0m     filtered_tb \u001b[39m=\u001b[39m _process_traceback_frames(e\u001b[39m.\u001b[39m__traceback__)\n\u001b[0;32m     68\u001b[0m     \u001b[39m# To get the full stack trace, call:\u001b[39;00m\n\u001b[0;32m     69\u001b[0m     \u001b[39m# `tf.debugging.disable_traceback_filtering()`\u001b[39;00m\n\u001b[1;32m---> 70\u001b[0m     \u001b[39mraise\u001b[39;00m e\u001b[39m.\u001b[39mwith_traceback(filtered_tb) \u001b[39mfrom\u001b[39;00m \u001b[39mNone\u001b[39m\n\u001b[0;32m     71\u001b[0m \u001b[39mfinally\u001b[39;00m:\n\u001b[0;32m     72\u001b[0m     \u001b[39mdel\u001b[39;00m filtered_tb\n",
      "File \u001b[1;32m~\\AppData\\Local\\Temp\\__autograph_generated_file_kh3uvvu.py:15\u001b[0m, in \u001b[0;36mouter_factory.<locals>.inner_factory.<locals>.tf__train_function\u001b[1;34m(iterator)\u001b[0m\n\u001b[0;32m     13\u001b[0m \u001b[39mtry\u001b[39;00m:\n\u001b[0;32m     14\u001b[0m     do_return \u001b[39m=\u001b[39m \u001b[39mTrue\u001b[39;00m\n\u001b[1;32m---> 15\u001b[0m     retval_ \u001b[39m=\u001b[39m ag__\u001b[39m.\u001b[39mconverted_call(ag__\u001b[39m.\u001b[39mld(step_function), (ag__\u001b[39m.\u001b[39mld(\u001b[39mself\u001b[39m), ag__\u001b[39m.\u001b[39mld(iterator)), \u001b[39mNone\u001b[39;00m, fscope)\n\u001b[0;32m     16\u001b[0m \u001b[39mexcept\u001b[39;00m:\n\u001b[0;32m     17\u001b[0m     do_return \u001b[39m=\u001b[39m \u001b[39mFalse\u001b[39;00m\n",
      "\u001b[1;31mValueError\u001b[0m: in user code:\n\n    File \"c:\\Users\\ann-k\\anaconda3\\envs\\patternRecognition2\\lib\\site-packages\\keras\\engine\\training.py\", line 1160, in train_function  *\n        return step_function(self, iterator)\n    File \"c:\\Users\\ann-k\\anaconda3\\envs\\patternRecognition2\\lib\\site-packages\\keras\\engine\\training.py\", line 1146, in step_function  **\n        outputs = model.distribute_strategy.run(run_step, args=(data,))\n    File \"c:\\Users\\ann-k\\anaconda3\\envs\\patternRecognition2\\lib\\site-packages\\keras\\engine\\training.py\", line 1135, in run_step  **\n        outputs = model.train_step(data)\n    File \"c:\\Users\\ann-k\\anaconda3\\envs\\patternRecognition2\\lib\\site-packages\\keras\\engine\\training.py\", line 994, in train_step\n        loss = self.compute_loss(x, y, y_pred, sample_weight)\n    File \"c:\\Users\\ann-k\\anaconda3\\envs\\patternRecognition2\\lib\\site-packages\\keras\\engine\\training.py\", line 1052, in compute_loss\n        return self.compiled_loss(\n    File \"c:\\Users\\ann-k\\anaconda3\\envs\\patternRecognition2\\lib\\site-packages\\keras\\engine\\compile_utils.py\", line 265, in __call__\n        loss_value = loss_obj(y_t, y_p, sample_weight=sw)\n    File \"c:\\Users\\ann-k\\anaconda3\\envs\\patternRecognition2\\lib\\site-packages\\keras\\losses.py\", line 152, in __call__\n        losses = call_fn(y_true, y_pred)\n    File \"c:\\Users\\ann-k\\anaconda3\\envs\\patternRecognition2\\lib\\site-packages\\keras\\losses.py\", line 272, in call  **\n        return ag_fn(y_true, y_pred, **self._fn_kwargs)\n    File \"c:\\Users\\ann-k\\anaconda3\\envs\\patternRecognition2\\lib\\site-packages\\keras\\losses.py\", line 1486, in mean_squared_error\n        return backend.mean(tf.math.squared_difference(y_pred, y_true), axis=-1)\n\n    ValueError: Dimensions must be equal, but are 5 and 10 for '{{node mean_squared_error/SquaredDifference}} = SquaredDifference[T=DT_FLOAT](feed_back_3/transpose, IteratorGetNext:1)' with input shapes: [?,5,13], [?,10,2].\n"
     ]
    }
   ],
   "source": [
    "early_stopping = tf.keras.callbacks.EarlyStopping(monitor='val_loss',\n",
    "                                                    patience=2,\n",
    "                                                    mode='min')\n",
    "feedback_model.compile(loss=tf.keras.losses.MeanSquaredError(),\n",
    "            optimizer=tf.keras.optimizers.Adam(),\n",
    "            metrics=[tf.keras.metrics.MeanAbsoluteError()])\n",
    "\n",
    "history = feedback_model.fit(x_train,y_train, epochs=20,\n",
    "                    validation_split=0.2,\n",
    "                    callbacks=[early_stopping])\n",
    "\n",
    "\n",
    "IPython.display.clear_output()\n",
    "\n",
    "#multi_val_performance['AR LSTM'] = feedback_model.evaluate(multi_window.val)\n",
    "#multi_performance['AR LSTM'] = feedback_model.evaluate(multi_window.test, verbose=0)\n",
    "#multi_window.plot(feedback_model)\n"
   ]
  },
  {
   "cell_type": "code",
   "execution_count": null,
   "metadata": {},
   "outputs": [],
   "source": []
  }
 ],
 "metadata": {
  "kernelspec": {
   "display_name": "patternRecognition2",
   "language": "python",
   "name": "python3"
  },
  "language_info": {
   "codemirror_mode": {
    "name": "ipython",
    "version": 3
   },
   "file_extension": ".py",
   "mimetype": "text/x-python",
   "name": "python",
   "nbconvert_exporter": "python",
   "pygments_lexer": "ipython3",
   "version": "3.10.10"
  },
  "orig_nbformat": 4
 },
 "nbformat": 4,
 "nbformat_minor": 2
}
