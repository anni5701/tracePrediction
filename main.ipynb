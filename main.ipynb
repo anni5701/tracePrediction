{
 "cells": [
  {
   "cell_type": "code",
   "execution_count": 1,
   "metadata": {},
   "outputs": [],
   "source": [
    "from data_processing import *\n",
    "from train_touch import *\n",
    "from train_trace import *\n",
    "from visualization import plot_segment"
   ]
  },
  {
   "cell_type": "code",
   "execution_count": 2,
   "metadata": {},
   "outputs": [
    {
     "name": "stdout",
     "output_type": "stream",
     "text": [
      "<class 'pandas.core.frame.DataFrame'>\n",
      "merging the data sets...\n",
      "calculate the quaternion representations...\n",
      "calculate the rotation matrices...\n",
      "calculate the navigation frame representation...\n",
      "integrate the acceleration...\n"
     ]
    },
    {
     "data": {
      "text/html": [
       "<div>\n",
       "<style scoped>\n",
       "    .dataframe tbody tr th:only-of-type {\n",
       "        vertical-align: middle;\n",
       "    }\n",
       "\n",
       "    .dataframe tbody tr th {\n",
       "        vertical-align: top;\n",
       "    }\n",
       "\n",
       "    .dataframe thead th {\n",
       "        text-align: right;\n",
       "    }\n",
       "</style>\n",
       "<table border=\"1\" class=\"dataframe\">\n",
       "  <thead>\n",
       "    <tr style=\"text-align: right;\">\n",
       "      <th></th>\n",
       "      <th>host_timestamp</th>\n",
       "      <th>arduino_timestamp</th>\n",
       "      <th>ax</th>\n",
       "      <th>ay</th>\n",
       "      <th>az</th>\n",
       "      <th>gx</th>\n",
       "      <th>gy</th>\n",
       "      <th>gz</th>\n",
       "      <th>temperature</th>\n",
       "      <th>x</th>\n",
       "      <th>...</th>\n",
       "      <th>r</th>\n",
       "      <th>nav_ax</th>\n",
       "      <th>nav_ay</th>\n",
       "      <th>nav_az</th>\n",
       "      <th>vel_x</th>\n",
       "      <th>vel_y</th>\n",
       "      <th>vel_z</th>\n",
       "      <th>pos_x</th>\n",
       "      <th>pos_y</th>\n",
       "      <th>pos_z</th>\n",
       "    </tr>\n",
       "  </thead>\n",
       "  <tbody>\n",
       "    <tr>\n",
       "      <th>0</th>\n",
       "      <td>43375070723400</td>\n",
       "      <td>733964</td>\n",
       "      <td>-0.634824</td>\n",
       "      <td>0.466391</td>\n",
       "      <td>0.584305</td>\n",
       "      <td>-0.686517</td>\n",
       "      <td>0.11501</td>\n",
       "      <td>0.06939</td>\n",
       "      <td>20.29</td>\n",
       "      <td>-125.0</td>\n",
       "      <td>...</td>\n",
       "      <td>[[-0.11382636407015201, 0.3750248547647836, -0...</td>\n",
       "      <td>-0.290393</td>\n",
       "      <td>0.418746</td>\n",
       "      <td>0.838008</td>\n",
       "      <td>0.000000</td>\n",
       "      <td>0.000000</td>\n",
       "      <td>0.000000</td>\n",
       "      <td>-125.000000</td>\n",
       "      <td>727.000000</td>\n",
       "      <td>0.000000</td>\n",
       "    </tr>\n",
       "    <tr>\n",
       "      <th>1</th>\n",
       "      <td>43375082694400</td>\n",
       "      <td>733975</td>\n",
       "      <td>-0.624188</td>\n",
       "      <td>0.485592</td>\n",
       "      <td>0.616692</td>\n",
       "      <td>-0.383517</td>\n",
       "      <td>0.17861</td>\n",
       "      <td>0.16839</td>\n",
       "      <td>20.29</td>\n",
       "      <td>-125.0</td>\n",
       "      <td>...</td>\n",
       "      <td>[[0.40367173193477623, -0.9091483282409087, 0....</td>\n",
       "      <td>-0.630255</td>\n",
       "      <td>0.604797</td>\n",
       "      <td>0.492665</td>\n",
       "      <td>-5.063563</td>\n",
       "      <td>5.629486</td>\n",
       "      <td>7.318703</td>\n",
       "      <td>-152.849595</td>\n",
       "      <td>757.962173</td>\n",
       "      <td>40.252865</td>\n",
       "    </tr>\n",
       "    <tr>\n",
       "      <th>2</th>\n",
       "      <td>43375093727500</td>\n",
       "      <td>733986</td>\n",
       "      <td>-0.652059</td>\n",
       "      <td>0.487532</td>\n",
       "      <td>0.576429</td>\n",
       "      <td>-0.221017</td>\n",
       "      <td>0.29831</td>\n",
       "      <td>0.27589</td>\n",
       "      <td>20.29</td>\n",
       "      <td>-125.0</td>\n",
       "      <td>...</td>\n",
       "      <td>[[-0.3519163621500252, 0.8038031677093032, 0.4...</td>\n",
       "      <td>0.897829</td>\n",
       "      <td>0.402963</td>\n",
       "      <td>0.163287</td>\n",
       "      <td>-3.591903</td>\n",
       "      <td>11.172164</td>\n",
       "      <td>10.926440</td>\n",
       "      <td>-200.454658</td>\n",
       "      <td>850.371246</td>\n",
       "      <td>140.601148</td>\n",
       "    </tr>\n",
       "    <tr>\n",
       "      <th>3</th>\n",
       "      <td>43375104950600</td>\n",
       "      <td>733998</td>\n",
       "      <td>-0.622237</td>\n",
       "      <td>0.512819</td>\n",
       "      <td>0.557383</td>\n",
       "      <td>0.168683</td>\n",
       "      <td>0.37521</td>\n",
       "      <td>0.49819</td>\n",
       "      <td>20.29</td>\n",
       "      <td>-125.0</td>\n",
       "      <td>...</td>\n",
       "      <td>[[-0.4890386249033041, -0.825427834650935, 0.2...</td>\n",
       "      <td>0.038171</td>\n",
       "      <td>0.216470</td>\n",
       "      <td>0.955260</td>\n",
       "      <td>2.024098</td>\n",
       "      <td>14.888762</td>\n",
       "      <td>17.637719</td>\n",
       "      <td>-209.861488</td>\n",
       "      <td>1006.736800</td>\n",
       "      <td>311.986101</td>\n",
       "    </tr>\n",
       "    <tr>\n",
       "      <th>4</th>\n",
       "      <td>43375116785300</td>\n",
       "      <td>734009</td>\n",
       "      <td>-0.613073</td>\n",
       "      <td>0.566541</td>\n",
       "      <td>0.545624</td>\n",
       "      <td>0.397183</td>\n",
       "      <td>0.34961</td>\n",
       "      <td>0.54099</td>\n",
       "      <td>20.25</td>\n",
       "      <td>-125.0</td>\n",
       "      <td>...</td>\n",
       "      <td>[[0.07391306177843293, 0.5203295300117495, 0.8...</td>\n",
       "      <td>0.713670</td>\n",
       "      <td>0.691190</td>\n",
       "      <td>-0.086401</td>\n",
       "      <td>6.159223</td>\n",
       "      <td>19.880890</td>\n",
       "      <td>22.416440</td>\n",
       "      <td>-164.853221</td>\n",
       "      <td>1197.969884</td>\n",
       "      <td>532.283972</td>\n",
       "    </tr>\n",
       "  </tbody>\n",
       "</table>\n",
       "<p>5 rows × 30 columns</p>\n",
       "</div>"
      ],
      "text/plain": [
       "   host_timestamp  arduino_timestamp        ax        ay        az        gx  \\\n",
       "0  43375070723400             733964 -0.634824  0.466391  0.584305 -0.686517   \n",
       "1  43375082694400             733975 -0.624188  0.485592  0.616692 -0.383517   \n",
       "2  43375093727500             733986 -0.652059  0.487532  0.576429 -0.221017   \n",
       "3  43375104950600             733998 -0.622237  0.512819  0.557383  0.168683   \n",
       "4  43375116785300             734009 -0.613073  0.566541  0.545624  0.397183   \n",
       "\n",
       "        gy       gz  temperature      x  ...  \\\n",
       "0  0.11501  0.06939        20.29 -125.0  ...   \n",
       "1  0.17861  0.16839        20.29 -125.0  ...   \n",
       "2  0.29831  0.27589        20.29 -125.0  ...   \n",
       "3  0.37521  0.49819        20.29 -125.0  ...   \n",
       "4  0.34961  0.54099        20.25 -125.0  ...   \n",
       "\n",
       "                                                   r    nav_ax    nav_ay  \\\n",
       "0  [[-0.11382636407015201, 0.3750248547647836, -0... -0.290393  0.418746   \n",
       "1  [[0.40367173193477623, -0.9091483282409087, 0.... -0.630255  0.604797   \n",
       "2  [[-0.3519163621500252, 0.8038031677093032, 0.4...  0.897829  0.402963   \n",
       "3  [[-0.4890386249033041, -0.825427834650935, 0.2...  0.038171  0.216470   \n",
       "4  [[0.07391306177843293, 0.5203295300117495, 0.8...  0.713670  0.691190   \n",
       "\n",
       "     nav_az     vel_x      vel_y      vel_z       pos_x        pos_y  \\\n",
       "0  0.838008  0.000000   0.000000   0.000000 -125.000000   727.000000   \n",
       "1  0.492665 -5.063563   5.629486   7.318703 -152.849595   757.962173   \n",
       "2  0.163287 -3.591903  11.172164  10.926440 -200.454658   850.371246   \n",
       "3  0.955260  2.024098  14.888762  17.637719 -209.861488  1006.736800   \n",
       "4 -0.086401  6.159223  19.880890  22.416440 -164.853221  1197.969884   \n",
       "\n",
       "        pos_z  \n",
       "0    0.000000  \n",
       "1   40.252865  \n",
       "2  140.601148  \n",
       "3  311.986101  \n",
       "4  532.283972  \n",
       "\n",
       "[5 rows x 30 columns]"
      ]
     },
     "execution_count": 2,
     "metadata": {},
     "output_type": "execute_result"
    }
   ],
   "source": [
    "data = Dataset(\"set1_imu.csv\", \"set1_tab.csv\")\n",
    "data.data_set.head()"
   ]
  },
  {
   "cell_type": "code",
   "execution_count": 3,
   "metadata": {},
   "outputs": [
    {
     "data": {
      "text/plain": [
       "Index(['host_timestamp', 'arduino_timestamp', 'ax', 'ay', 'az', 'gx', 'gy',\n",
       "       'gz', 'temperature', 'x', 'y', 'z', 'in_range', 'touch', 'pressure',\n",
       "       'reset', 'q0', 'q1', 'q2', 'q3', 'r', 'nav_ax', 'nav_ay', 'nav_az',\n",
       "       'vel_x', 'vel_y', 'vel_z', 'pos_x', 'pos_y', 'pos_z'],\n",
       "      dtype='object')"
      ]
     },
     "execution_count": 3,
     "metadata": {},
     "output_type": "execute_result"
    }
   ],
   "source": [
    "data.data_set.columns"
   ]
  },
  {
   "cell_type": "code",
   "execution_count": 4,
   "metadata": {},
   "outputs": [],
   "source": [
    "segments = []\n",
    "labels = []\n",
    "step = 5\n",
    "for i in range(0, len(data.data_set) - step, step):\n",
    "    xs = data.data_set['vel_x'].values[i: i + step]\n",
    "    ys = data.data_set['vel_y'].values[i: i + step]\n",
    "    zs = data.data_set['vel_z'].values[i: i + step]\n",
    "    nav_x = data.data_set['nav_ax'].values[i: i + step]\n",
    "    nav_y = data.data_set['nav_ay'].values[i: i + step]\n",
    "    nav_z = data.data_set['nav_az'].values[i: i + step]\n",
    "    # Retrieve the most often used label in this segment\n",
    "    #x,y,z = data.data_set.loc[i: i + step,['x', 'y', 'z']].mean(axis=0)\n",
    "    x,y,z = data.data_set.iloc[i: i + step, 9:12].mean(axis=0)\n",
    "    segments.append([xs, ys, zs, nav_x, nav_y, nav_z])\n",
    "    labels.append([x,y,z])\n",
    "\n",
    "reshaped_segments = np.asarray(segments, dtype= np.float32).reshape(-1, step,6)\n",
    "labels = np.asarray(labels)\n",
    "\n"
   ]
  },
  {
   "cell_type": "code",
   "execution_count": 5,
   "metadata": {},
   "outputs": [
    {
     "data": {
      "text/plain": [
       "array([[-125.        ,  727.        ,    0.        ],\n",
       "       [-125.        ,  727.        ,    0.        ],\n",
       "       [-125.        ,  727.        ,    0.        ],\n",
       "       ...,\n",
       "       [ 421.30716411,  117.21286336,    0.        ],\n",
       "       [ 421.30716411,  117.21286336,    0.        ],\n",
       "       [ 421.30716411,  117.21286336,    0.        ]])"
      ]
     },
     "execution_count": 5,
     "metadata": {},
     "output_type": "execute_result"
    }
   ],
   "source": [
    "labels"
   ]
  },
  {
   "cell_type": "code",
   "execution_count": 6,
   "metadata": {},
   "outputs": [
    {
     "name": "stdout",
     "output_type": "stream",
     "text": [
      "480.7798854168702 266.47606039629284 737.7273850489355\n"
     ]
    }
   ],
   "source": [
    "split = int(len(data.data_set) * (1- 0.2))\n",
    "x,y,z = data.data_set.loc[split:, ['x','y','z']].mean(axis=0)\n",
    "print(x,y,z)\n"
   ]
  },
  {
   "cell_type": "code",
   "execution_count": 7,
   "metadata": {},
   "outputs": [],
   "source": [
    "#plot_segment(data.data_set)"
   ]
  },
  {
   "cell_type": "code",
   "execution_count": 8,
   "metadata": {},
   "outputs": [
    {
     "name": "stdout",
     "output_type": "stream",
     "text": [
      "Split into test and trainings data...\n",
      "Create segments and labels...\n",
      "Create segments and labels...\n",
      "The trainings data is of shape (12027, 80) and (12027, 3) and the test data is of shape (3006, 80) and (3006, 3)\n",
      "Create the LSTM model...\n",
      "Model: \"sequential\"\n",
      "_________________________________________________________________\n",
      " Layer (type)                Output Shape              Param #   \n",
      "=================================================================\n",
      " reshape (Reshape)           (None, 5, 16)             0         \n",
      "                                                                 \n",
      " lstm (LSTM)                 (None, 128)               74240     \n",
      "                                                                 \n",
      " dense (Dense)               (None, 3)                 387       \n",
      "                                                                 \n",
      "=================================================================\n",
      "Total params: 74,627\n",
      "Trainable params: 74,627\n",
      "Non-trainable params: 0\n",
      "_________________________________________________________________\n",
      "None\n",
      "Fitting model...\n",
      "Epoch 1/20\n",
      "Epoch 2/20\n",
      "Epoch 3/20\n",
      "Epoch 4/20\n",
      "Epoch 5/20\n",
      "Epoch 6/20\n",
      "Epoch 7/20\n",
      "Epoch 8/20\n",
      "Epoch 9/20\n",
      "Epoch 10/20\n",
      "Epoch 11/20\n",
      "Epoch 12/20\n",
      "Epoch 13/20\n",
      "Epoch 14/20\n",
      "Epoch 15/20\n",
      "Epoch 16/20\n",
      "Epoch 17/20\n",
      "Epoch 18/20\n",
      "Epoch 19/20\n",
      "Epoch 20/20\n"
     ]
    },
    {
     "data": {
      "image/png": "[encoded data removed]",
      "text/plain": [
       "<Figure size 640x480 with 1 Axes>"
      ]
     },
     "metadata": {},
     "output_type": "display_data"
    },
    {
     "name": "stdout",
     "output_type": "stream",
     "text": [
      "Use  model on test data...\n",
      "94/94 [==============================] - 1s 2ms/step\n",
      "The loss on the test data is 5485735.0\n",
      "[[234.05907 201.66463   0.     ]\n",
      " [234.0608  201.66609   0.     ]\n",
      " [234.0608  201.66614   0.     ]\n",
      " [234.0596  201.66512   0.     ]\n",
      " [234.06082 201.66612   0.     ]\n",
      " [234.05962 201.66515   0.     ]\n",
      " [234.05919 201.66472   0.     ]\n",
      " [234.06078 201.66609   0.     ]\n",
      " [234.05867 201.66429   0.     ]\n",
      " [234.06078 201.66603   0.     ]]\n",
      "[234.05907 234.0608  234.0608  234.0596  234.06082]\n",
      "[201.66463 201.66609 201.66614 201.66512 201.66612]\n"
     ]
    },
    {
     "data": {
      "image/png": "[encoded data removed]",
      "text/plain": [
       "<Figure size 640x480 with 1 Axes>"
      ]
     },
     "metadata": {},
     "output_type": "display_data"
    }
   ],
   "source": [
    "model = PredictionModelTrace(data.data_set)"
   ]
  },
  {
   "cell_type": "code",
   "execution_count": 9,
   "metadata": {},
   "outputs": [],
   "source": [
    "#model = PredictionModel(data.data_set)"
   ]
  }
 ],
 "metadata": {
  "kernelspec": {
   "display_name": "patternRecognition2",
   "language": "python",
   "name": "python3"
  },
  "language_info": {
   "codemirror_mode": {
    "name": "ipython",
    "version": 3
   },
   "file_extension": ".py",
   "mimetype": "text/x-python",
   "name": "python",
   "nbconvert_exporter": "python",
   "pygments_lexer": "ipython3",
   "version": "3.10.10"
  },
  "orig_nbformat": 4
 },
 "nbformat": 4,
 "nbformat_minor": 2
}
