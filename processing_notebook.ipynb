{
 "cells": [
  {
   "cell_type": "code",
   "execution_count": 103,
   "metadata": {},
   "outputs": [],
   "source": [
    "import pandas as pd\n",
    "import matplotlib.pyplot as plt\n",
    "import numpy as np\n",
    "import ahrs\n",
    "from numpy.linalg import norm\n",
    "import scipy\n"
   ]
  },
  {
   "cell_type": "code",
   "execution_count": 104,
   "metadata": {},
   "outputs": [],
   "source": [
    "PATH_TO_DATA = \"./data/\"\n",
    "\n",
    "imu = pd.read_csv(PATH_TO_DATA + \"set1_imu.csv\", encoding=\"utf-8\")\n",
    "tab = pd.read_csv(PATH_TO_DATA + \"set1_tab.csv\", encoding=\"utf-16\")\n",
    "\n",
    "imu = pd.read_csv(PATH_TO_DATA + \"position_data_imu.csv\", encoding=\"utf-16\")\n",
    "tab = pd.read_csv(PATH_TO_DATA + \"position_data_tab.csv\", encoding=\"utf-8\")"
   ]
  },
  {
   "cell_type": "code",
   "execution_count": 105,
   "metadata": {},
   "outputs": [
    {
     "data": {
      "text/html": [
       "<div>\n",
       "<style scoped>\n",
       "    .dataframe tbody tr th:only-of-type {\n",
       "        vertical-align: middle;\n",
       "    }\n",
       "\n",
       "    .dataframe tbody tr th {\n",
       "        vertical-align: top;\n",
       "    }\n",
       "\n",
       "    .dataframe thead th {\n",
       "        text-align: right;\n",
       "    }\n",
       "</style>\n",
       "<table border=\"1\" class=\"dataframe\">\n",
       "  <thead>\n",
       "    <tr style=\"text-align: right;\">\n",
       "      <th></th>\n",
       "      <th>host_timestamp</th>\n",
       "      <th>arduino_timestamp</th>\n",
       "      <th>ax</th>\n",
       "      <th>ay</th>\n",
       "      <th>az</th>\n",
       "      <th>gx</th>\n",
       "      <th>gy</th>\n",
       "      <th>gz</th>\n",
       "      <th>temperature</th>\n",
       "    </tr>\n",
       "  </thead>\n",
       "  <tbody>\n",
       "    <tr>\n",
       "      <th>0</th>\n",
       "      <td>361742653357600</td>\n",
       "      <td>172291</td>\n",
       "      <td>-1.1210</td>\n",
       "      <td>-4.3585</td>\n",
       "      <td>-8.0758</td>\n",
       "      <td>1.2511</td>\n",
       "      <td>-0.0709</td>\n",
       "      <td>0.1845</td>\n",
       "      <td>20.37</td>\n",
       "    </tr>\n",
       "    <tr>\n",
       "      <th>1</th>\n",
       "      <td>361742664144600</td>\n",
       "      <td>172302</td>\n",
       "      <td>-1.0469</td>\n",
       "      <td>-4.3597</td>\n",
       "      <td>-8.0219</td>\n",
       "      <td>1.0116</td>\n",
       "      <td>-0.0733</td>\n",
       "      <td>0.1185</td>\n",
       "      <td>20.37</td>\n",
       "    </tr>\n",
       "    <tr>\n",
       "      <th>2</th>\n",
       "      <td>361742676191700</td>\n",
       "      <td>172313</td>\n",
       "      <td>-1.0277</td>\n",
       "      <td>-4.3155</td>\n",
       "      <td>-7.9095</td>\n",
       "      <td>0.8711</td>\n",
       "      <td>-0.0770</td>\n",
       "      <td>0.0134</td>\n",
       "      <td>20.37</td>\n",
       "    </tr>\n",
       "    <tr>\n",
       "      <th>3</th>\n",
       "      <td>361742687385900</td>\n",
       "      <td>172324</td>\n",
       "      <td>-0.9775</td>\n",
       "      <td>-4.2461</td>\n",
       "      <td>-7.7707</td>\n",
       "      <td>0.6536</td>\n",
       "      <td>-0.0648</td>\n",
       "      <td>-0.0843</td>\n",
       "      <td>20.37</td>\n",
       "    </tr>\n",
       "    <tr>\n",
       "      <th>4</th>\n",
       "      <td>361742698424000</td>\n",
       "      <td>172336</td>\n",
       "      <td>-0.9392</td>\n",
       "      <td>-4.7151</td>\n",
       "      <td>-7.9406</td>\n",
       "      <td>0.3079</td>\n",
       "      <td>-0.0354</td>\n",
       "      <td>-0.1429</td>\n",
       "      <td>20.36</td>\n",
       "    </tr>\n",
       "  </tbody>\n",
       "</table>\n",
       "</div>"
      ],
      "text/plain": [
       "    host_timestamp  arduino_timestamp      ax      ay      az      gx      gy  \\\n",
       "0  361742653357600             172291 -1.1210 -4.3585 -8.0758  1.2511 -0.0709   \n",
       "1  361742664144600             172302 -1.0469 -4.3597 -8.0219  1.0116 -0.0733   \n",
       "2  361742676191700             172313 -1.0277 -4.3155 -7.9095  0.8711 -0.0770   \n",
       "3  361742687385900             172324 -0.9775 -4.2461 -7.7707  0.6536 -0.0648   \n",
       "4  361742698424000             172336 -0.9392 -4.7151 -7.9406  0.3079 -0.0354   \n",
       "\n",
       "       gz  temperature  \n",
       "0  0.1845        20.37  \n",
       "1  0.1185        20.37  \n",
       "2  0.0134        20.37  \n",
       "3 -0.0843        20.37  \n",
       "4 -0.1429        20.36  "
      ]
     },
     "execution_count": 105,
     "metadata": {},
     "output_type": "execute_result"
    }
   ],
   "source": [
    "imu.head()"
   ]
  },
  {
   "cell_type": "code",
   "execution_count": 106,
   "metadata": {},
   "outputs": [],
   "source": [
    "imu[\"arduino_timestamp\"] = (imu[\"arduino_timestamp\"] - np.min(imu[\"arduino_timestamp\"])) * 0.001\n",
    "\n",
    "imu = imu[5400:7000]"
   ]
  },
  {
   "cell_type": "code",
   "execution_count": 107,
   "metadata": {},
   "outputs": [],
   "source": [
    "#from sklearn.preprocessing import MinMaxScaler\n",
    "#for col in [\"ax\", \"ay\", \"az\"]:\n",
    "\t\t\t#scaler = MinMaxScaler().fit(imu[[col]])\n",
    "\t\t\t#imu[col] = scaler.transform(imu[[col]])\n",
    "\n",
    "from sklearn.preprocessing import normalize\n",
    "imu[[\"ax\", \"ay\", \"az\"]] = normalize(imu[[\"ax\", \"ay\", \"az\"]], axis=1, norm='l2')"
   ]
  },
  {
   "cell_type": "code",
   "execution_count": 108,
   "metadata": {},
   "outputs": [
    {
     "data": {
      "text/html": [
       "<div>\n",
       "<style scoped>\n",
       "    .dataframe tbody tr th:only-of-type {\n",
       "        vertical-align: middle;\n",
       "    }\n",
       "\n",
       "    .dataframe tbody tr th {\n",
       "        vertical-align: top;\n",
       "    }\n",
       "\n",
       "    .dataframe thead th {\n",
       "        text-align: right;\n",
       "    }\n",
       "</style>\n",
       "<table border=\"1\" class=\"dataframe\">\n",
       "  <thead>\n",
       "    <tr style=\"text-align: right;\">\n",
       "      <th></th>\n",
       "      <th>host_timestamp</th>\n",
       "      <th>arduino_timestamp</th>\n",
       "      <th>ax</th>\n",
       "      <th>ay</th>\n",
       "      <th>az</th>\n",
       "      <th>gx</th>\n",
       "      <th>gy</th>\n",
       "      <th>gz</th>\n",
       "      <th>temperature</th>\n",
       "    </tr>\n",
       "  </thead>\n",
       "  <tbody>\n",
       "    <tr>\n",
       "      <th>5400</th>\n",
       "      <td>361803587178800</td>\n",
       "      <td>60.932</td>\n",
       "      <td>-0.933751</td>\n",
       "      <td>0.061181</td>\n",
       "      <td>-0.352655</td>\n",
       "      <td>-0.4398</td>\n",
       "      <td>0.6292</td>\n",
       "      <td>-0.0281</td>\n",
       "      <td>20.86</td>\n",
       "    </tr>\n",
       "    <tr>\n",
       "      <th>5401</th>\n",
       "      <td>361803598223400</td>\n",
       "      <td>60.943</td>\n",
       "      <td>-0.921086</td>\n",
       "      <td>0.074503</td>\n",
       "      <td>-0.382164</td>\n",
       "      <td>-0.4789</td>\n",
       "      <td>0.6426</td>\n",
       "      <td>0.1283</td>\n",
       "      <td>20.81</td>\n",
       "    </tr>\n",
       "    <tr>\n",
       "      <th>5402</th>\n",
       "      <td>361803609384800</td>\n",
       "      <td>60.954</td>\n",
       "      <td>-0.907408</td>\n",
       "      <td>0.082943</td>\n",
       "      <td>-0.411984</td>\n",
       "      <td>-0.4459</td>\n",
       "      <td>0.5840</td>\n",
       "      <td>0.2175</td>\n",
       "      <td>20.81</td>\n",
       "    </tr>\n",
       "    <tr>\n",
       "      <th>5403</th>\n",
       "      <td>361803620183100</td>\n",
       "      <td>60.965</td>\n",
       "      <td>-0.909824</td>\n",
       "      <td>0.114454</td>\n",
       "      <td>-0.398899</td>\n",
       "      <td>-0.3494</td>\n",
       "      <td>0.5510</td>\n",
       "      <td>0.1943</td>\n",
       "      <td>20.84</td>\n",
       "    </tr>\n",
       "    <tr>\n",
       "      <th>5404</th>\n",
       "      <td>361803632046100</td>\n",
       "      <td>60.977</td>\n",
       "      <td>-0.909486</td>\n",
       "      <td>0.125909</td>\n",
       "      <td>-0.396210</td>\n",
       "      <td>-0.3409</td>\n",
       "      <td>0.5107</td>\n",
       "      <td>0.1698</td>\n",
       "      <td>20.84</td>\n",
       "    </tr>\n",
       "  </tbody>\n",
       "</table>\n",
       "</div>"
      ],
      "text/plain": [
       "       host_timestamp  arduino_timestamp        ax        ay        az  \\\n",
       "5400  361803587178800             60.932 -0.933751  0.061181 -0.352655   \n",
       "5401  361803598223400             60.943 -0.921086  0.074503 -0.382164   \n",
       "5402  361803609384800             60.954 -0.907408  0.082943 -0.411984   \n",
       "5403  361803620183100             60.965 -0.909824  0.114454 -0.398899   \n",
       "5404  361803632046100             60.977 -0.909486  0.125909 -0.396210   \n",
       "\n",
       "          gx      gy      gz  temperature  \n",
       "5400 -0.4398  0.6292 -0.0281        20.86  \n",
       "5401 -0.4789  0.6426  0.1283        20.81  \n",
       "5402 -0.4459  0.5840  0.2175        20.81  \n",
       "5403 -0.3494  0.5510  0.1943        20.84  \n",
       "5404 -0.3409  0.5107  0.1698        20.84  "
      ]
     },
     "execution_count": 108,
     "metadata": {},
     "output_type": "execute_result"
    }
   ],
   "source": [
    "imu.head()"
   ]
  },
  {
   "cell_type": "code",
   "execution_count": 109,
   "metadata": {},
   "outputs": [],
   "source": [
    "madgwick = ahrs.filters.Madgwick()\n"
   ]
  },
  {
   "attachments": {},
   "cell_type": "markdown",
   "metadata": {},
   "source": [
    "Guess the initial position from acceleration data.\n",
    "We define:   \n",
    "\n",
    "$R (q_{E}^{S}) \\ \\begin{pmatrix}0\\\\0\\\\1\\end{pmatrix}= \\begin{pmatrix}a_{x}\\\\a_{y}\\\\a{z}\\end{pmatrix}$\n",
    "\n",
    "Where $R (q_{E}^{S})$ is the rotation matrix from the global frame to the sensor frame.\n",
    "Using the rotation matrix as defined in \"Keeping a Good Attitude: A Quaternion-Based Orientation Filter for IMUs and MARGs\" we can the equation (25), keeping in mind that the function is not continous at point $a_{z} = 0$"
   ]
  },
  {
   "cell_type": "code",
   "execution_count": 110,
   "metadata": {},
   "outputs": [],
   "source": [
    "def intial_or(ax,ay,az):\n",
    "    if az >= 0:\n",
    "        q0 = np.sqrt((az+1)/2)\n",
    "        q1 = - ay/ np.sqrt((az+1)*2)\n",
    "        q2 = ax/ np.sqrt((az+1)*2)\n",
    "        q3 = 0\n",
    "    else:\n",
    "        q0 = - ay/ np.sqrt((1-az)*2)\n",
    "        q1 = np.sqrt((1-az)/2)\n",
    "        q2 = 0\n",
    "        q3 = ax/ np.sqrt((1-az)*2)\n",
    "    return [q0,q1,q2,q3]"
   ]
  },
  {
   "cell_type": "code",
   "execution_count": 111,
   "metadata": {},
   "outputs": [
    {
     "name": "stdout",
     "output_type": "stream",
     "text": [
      "[ 0.07068442  0.82095369  0.04860488 -0.56451423] [-0.03719699647997001, 0.8223912707848302, 0, -0.5677050124754768]\n"
     ]
    }
   ],
   "source": [
    "# compare both intial orientation estimation approaches\n",
    "A = imu[[\"ax\", \"ay\", \"az\"]].values\n",
    "i1 = ahrs.common.orientation.acc2q(A[0]) \n",
    "i2 = intial_or(A[0,0], A[0,1], A[0,2])\n",
    "print(i1,i2)"
   ]
  },
  {
   "cell_type": "code",
   "execution_count": 112,
   "metadata": {},
   "outputs": [],
   "source": [
    "T = imu[\"arduino_timestamp\"].values\n",
    "A = imu[[\"ax\", \"ay\", \"az\"]].values\n",
    "G = imu[[\"gx\", \"gy\", \"gz\"]].values\n",
    "Q = np.zeros((len(T), 4))\n",
    "Q[0] = ahrs.common.orientation.acc2q(A[0]) #intial_or(A[0,0], A[0,1], A[0,2])\n",
    "for i in range(1, len(T)):\n",
    "    madgwick.Dt = (T[i] - T[i - 1]) \n",
    "    Q[i] = madgwick.updateIMU(Q[i - 1], G[i], A[i])\n",
    "imu = pd.concat([imu.reset_index(drop=True), pd.DataFrame(Q, columns=['q0','q1','q2','q3'])], axis=1)\n"
   ]
  },
  {
   "cell_type": "code",
   "execution_count": 113,
   "metadata": {},
   "outputs": [
    {
     "data": {
      "text/html": [
       "<div>\n",
       "<style scoped>\n",
       "    .dataframe tbody tr th:only-of-type {\n",
       "        vertical-align: middle;\n",
       "    }\n",
       "\n",
       "    .dataframe tbody tr th {\n",
       "        vertical-align: top;\n",
       "    }\n",
       "\n",
       "    .dataframe thead th {\n",
       "        text-align: right;\n",
       "    }\n",
       "</style>\n",
       "<table border=\"1\" class=\"dataframe\">\n",
       "  <thead>\n",
       "    <tr style=\"text-align: right;\">\n",
       "      <th></th>\n",
       "      <th>q0</th>\n",
       "      <th>q1</th>\n",
       "      <th>q2</th>\n",
       "      <th>q3</th>\n",
       "    </tr>\n",
       "  </thead>\n",
       "  <tbody>\n",
       "    <tr>\n",
       "      <th>0</th>\n",
       "      <td>0.073138</td>\n",
       "      <td>0.822936</td>\n",
       "      <td>0.049706</td>\n",
       "      <td>-0.561210</td>\n",
       "    </tr>\n",
       "    <tr>\n",
       "      <th>1</th>\n",
       "      <td>0.075714</td>\n",
       "      <td>0.824762</td>\n",
       "      <td>0.050289</td>\n",
       "      <td>-0.558128</td>\n",
       "    </tr>\n",
       "    <tr>\n",
       "      <th>2</th>\n",
       "      <td>0.077927</td>\n",
       "      <td>0.826474</td>\n",
       "      <td>0.050574</td>\n",
       "      <td>-0.555258</td>\n",
       "    </tr>\n",
       "    <tr>\n",
       "      <th>3</th>\n",
       "      <td>0.080279</td>\n",
       "      <td>0.828165</td>\n",
       "      <td>0.050927</td>\n",
       "      <td>-0.552362</td>\n",
       "    </tr>\n",
       "    <tr>\n",
       "      <th>4</th>\n",
       "      <td>0.082123</td>\n",
       "      <td>0.829779</td>\n",
       "      <td>0.051539</td>\n",
       "      <td>-0.549605</td>\n",
       "    </tr>\n",
       "  </tbody>\n",
       "</table>\n",
       "</div>"
      ],
      "text/plain": [
       "         q0        q1        q2        q3\n",
       "0  0.073138  0.822936  0.049706 -0.561210\n",
       "1  0.075714  0.824762  0.050289 -0.558128\n",
       "2  0.077927  0.826474  0.050574 -0.555258\n",
       "3  0.080279  0.828165  0.050927 -0.552362\n",
       "4  0.082123  0.829779  0.051539 -0.549605"
      ]
     },
     "execution_count": 113,
     "metadata": {},
     "output_type": "execute_result"
    }
   ],
   "source": [
    "imu[[\"q0\",\"q1\",\"q2\",\"q3\"]].head()"
   ]
  },
  {
   "cell_type": "code",
   "execution_count": 114,
   "metadata": {},
   "outputs": [],
   "source": [
    "def rotation_matrix(q):\n",
    "    \"\"\"\n",
    "    Input:\n",
    "        Q: A 4 element array representing the quaternion (q0,q1,q2,q3) \n",
    "\n",
    "    Output:\n",
    "        3x3 rotation matrix. \n",
    "        This rotation matrix converts a point in the local reference \n",
    "        frame to a point in the navigation reference frame.\n",
    "    \"\"\"\n",
    "\n",
    "    # divide by norm so we have a unit quaternion\n",
    "    q0 = q[0] / norm(q)\n",
    "    q1 = q[1] / norm(q)\n",
    "    q2 = q[2] / norm(q)\n",
    "    q3 = q[3] / norm(q)\n",
    "\n",
    "    R = np.zeros((3,3))\n",
    "    \n",
    "    R[0,0] = 1- 2 * (q2 * q2 + q3 * q3) \n",
    "    R[0,1] = 2 * (q1 * q2 - q0 * q3)\n",
    "    R[0,2] = 2 * (q1 * q3 + q0 * q2)\n",
    "    \n",
    "    R[1,0] = 2 * (q1 * q2 + q0 * q3)\n",
    "    R[1,1] = 1 - 2 * (q1 * q1 + q3 * q3) \n",
    "    R[1,2] = 2 * (q2 * q3 - q0 * q1)\n",
    "    \n",
    "    R[2,0] = 2 * (q1 * q3 - q0 * q2)\n",
    "    R[2,1] = 2 * (q2 * q3 + q0 * q1)\n",
    "    R[2,2] = 1 - 2 * (q1 * q1 + q2 * q2) \n",
    "\n",
    "    # inverse of R is body to global, matrix is orthogonal so transpose is equal to inverse                  \n",
    "    return np.transpose(R)"
   ]
  },
  {
   "cell_type": "code",
   "execution_count": 115,
   "metadata": {},
   "outputs": [],
   "source": [
    "imu['R_b_g'] = imu.apply(lambda row: rotation_matrix([row.q0, row.q1, row.q2, row.q3]), axis=1)"
   ]
  },
  {
   "cell_type": "code",
   "execution_count": 116,
   "metadata": {},
   "outputs": [
    {
     "data": {
      "text/plain": [
       "<matplotlib.legend.Legend at 0x1fe1cd30430>"
      ]
     },
     "execution_count": 116,
     "metadata": {},
     "output_type": "execute_result"
    },
    {
     "data": {
      "image/png": "[encoded data removed]",
      "text/plain": [
       "<Figure size 640x480 with 1 Axes>"
      ]
     },
     "metadata": {},
     "output_type": "display_data"
    }
   ],
   "source": [
    "plt.plot(imu.loc[:, \"ax\"], label=\"ax\")\n",
    "plt.plot(imu.loc[:, \"ay\"],label =\"ay\")\n",
    "plt.plot(imu.loc[:, \"az\"], label= \"az\")\n",
    "plt.legend()"
   ]
  },
  {
   "attachments": {},
   "cell_type": "markdown",
   "metadata": {},
   "source": [
    "If we want to handle the gravity we have to substract $\\begin{pmatrix}0\\\\0\\\\1 \\end{pmatrix} $. However, since we are not holding the pen perfectly aligned to one of the axes we will in each step use the rotation matrix to transform the gravity vector which is given in the global frame to the body frame and then substract from the acceleration also measured in the body frame."
   ]
  },
  {
   "cell_type": "code",
   "execution_count": 117,
   "metadata": {},
   "outputs": [],
   "source": [
    "def nav_g(R: np.ndarray):\n",
    "        nav_g = R.T @ [0,0,1]\n",
    "        return nav_g \n",
    "imu[[\"nav_g_x\",\"nav_g_y\",\"nav_g_z\"]] = imu.apply(lambda row: pd.Series(nav_g(row.R_b_g)), axis=1) "
   ]
  },
  {
   "cell_type": "code",
   "execution_count": 118,
   "metadata": {},
   "outputs": [
    {
     "data": {
      "text/html": [
       "<div>\n",
       "<style scoped>\n",
       "    .dataframe tbody tr th:only-of-type {\n",
       "        vertical-align: middle;\n",
       "    }\n",
       "\n",
       "    .dataframe tbody tr th {\n",
       "        vertical-align: top;\n",
       "    }\n",
       "\n",
       "    .dataframe thead th {\n",
       "        text-align: right;\n",
       "    }\n",
       "</style>\n",
       "<table border=\"1\" class=\"dataframe\">\n",
       "  <thead>\n",
       "    <tr style=\"text-align: right;\">\n",
       "      <th></th>\n",
       "      <th>nav_g_x</th>\n",
       "      <th>nav_g_y</th>\n",
       "      <th>nav_g_z</th>\n",
       "    </tr>\n",
       "  </thead>\n",
       "  <tbody>\n",
       "    <tr>\n",
       "      <th>0</th>\n",
       "      <td>-0.916409</td>\n",
       "      <td>-0.176167</td>\n",
       "      <td>-0.359389</td>\n",
       "    </tr>\n",
       "    <tr>\n",
       "      <th>1</th>\n",
       "      <td>-0.913030</td>\n",
       "      <td>-0.181027</td>\n",
       "      <td>-0.365521</td>\n",
       "    </tr>\n",
       "    <tr>\n",
       "      <th>2</th>\n",
       "      <td>-0.909929</td>\n",
       "      <td>-0.184972</td>\n",
       "      <td>-0.371233</td>\n",
       "    </tr>\n",
       "    <tr>\n",
       "      <th>3</th>\n",
       "      <td>-0.906718</td>\n",
       "      <td>-0.189228</td>\n",
       "      <td>-0.376902</td>\n",
       "    </tr>\n",
       "    <tr>\n",
       "      <th>4</th>\n",
       "      <td>-0.903637</td>\n",
       "      <td>-0.192941</td>\n",
       "      <td>-0.382380</td>\n",
       "    </tr>\n",
       "  </tbody>\n",
       "</table>\n",
       "</div>"
      ],
      "text/plain": [
       "    nav_g_x   nav_g_y   nav_g_z\n",
       "0 -0.916409 -0.176167 -0.359389\n",
       "1 -0.913030 -0.181027 -0.365521\n",
       "2 -0.909929 -0.184972 -0.371233\n",
       "3 -0.906718 -0.189228 -0.376902\n",
       "4 -0.903637 -0.192941 -0.382380"
      ]
     },
     "execution_count": 118,
     "metadata": {},
     "output_type": "execute_result"
    }
   ],
   "source": [
    "imu[[\"nav_g_x\",\"nav_g_y\",\"nav_g_z\"]].head()"
   ]
  },
  {
   "cell_type": "code",
   "execution_count": 119,
   "metadata": {},
   "outputs": [],
   "source": [
    "imu[\"fixed_ax\"] = imu.apply(lambda row: pd.Series(row.ax - row.nav_g_x), axis=1) \n",
    "imu[\"fixed_ay\"] = imu.apply(lambda row: pd.Series(row.ay - row.nav_g_y), axis=1) \n",
    "imu[\"fixed_az\"] = imu.apply(lambda row: pd.Series(row.az - row.nav_g_z), axis=1) \n",
    "\n",
    "imu[[\"fixed_ax\", \"fixed_ay\", \"fixded_az\"]] = normalize(imu[[\"fixed_ax\", \"fixed_ay\", \"fixed_az\"]], axis=1, norm='l2')"
   ]
  },
  {
   "cell_type": "code",
   "execution_count": 120,
   "metadata": {},
   "outputs": [
    {
     "data": {
      "text/plain": [
       "<matplotlib.legend.Legend at 0x1fe1e38dcd0>"
      ]
     },
     "execution_count": 120,
     "metadata": {},
     "output_type": "execute_result"
    },
    {
     "data": {
      "image/png": "[encoded data removed]",
      "text/plain": [
       "<Figure size 640x480 with 1 Axes>"
      ]
     },
     "metadata": {},
     "output_type": "display_data"
    }
   ],
   "source": [
    "plt.plot(imu.loc[:, \"ax\"], label=\"ax\")\n",
    "plt.plot(imu.loc[:, \"fixed_ax\"],label =\"fixed_ax\")\n",
    "plt.legend()"
   ]
  },
  {
   "cell_type": "code",
   "execution_count": 121,
   "metadata": {},
   "outputs": [
    {
     "data": {
      "text/plain": [
       "<matplotlib.legend.Legend at 0x1fe1cc9b880>"
      ]
     },
     "execution_count": 121,
     "metadata": {},
     "output_type": "execute_result"
    },
    {
     "data": {
      "image/png": "[encoded data removed]",
      "text/plain": [
       "<Figure size 640x480 with 1 Axes>"
      ]
     },
     "metadata": {},
     "output_type": "display_data"
    }
   ],
   "source": [
    "plt.plot(imu.loc[:, \"ay\"], label=\"ay\")\n",
    "plt.plot(imu.loc[:, \"fixed_ay\"],label =\"fixed_ay\")\n",
    "plt.legend()"
   ]
  },
  {
   "cell_type": "code",
   "execution_count": 122,
   "metadata": {},
   "outputs": [
    {
     "data": {
      "text/plain": [
       "<matplotlib.legend.Legend at 0x1fe1e7ee250>"
      ]
     },
     "execution_count": 122,
     "metadata": {},
     "output_type": "execute_result"
    },
    {
     "data": {
      "image/png": "[encoded data removed]",
      "text/plain": [
       "<Figure size 640x480 with 1 Axes>"
      ]
     },
     "metadata": {},
     "output_type": "display_data"
    }
   ],
   "source": [
    "plt.plot(imu.loc[:, \"az\"], label=\"az\")\n",
    "plt.plot(imu.loc[:, \"fixed_az\"],label =\"fixed_az\")\n",
    "plt.legend()"
   ]
  },
  {
   "cell_type": "code",
   "execution_count": null,
   "metadata": {},
   "outputs": [],
   "source": []
  }
 ],
 "metadata": {
  "kernelspec": {
   "display_name": "patternRecognition2",
   "language": "python",
   "name": "python3"
  },
  "language_info": {
   "codemirror_mode": {
    "name": "ipython",
    "version": 3
   },
   "file_extension": ".py",
   "mimetype": "text/x-python",
   "name": "python",
   "nbconvert_exporter": "python",
   "pygments_lexer": "ipython3",
   "version": "3.9.13"
  },
  "orig_nbformat": 4
 },
 "nbformat": 4,
 "nbformat_minor": 2
}
